{
 "cells": [
  {
   "cell_type": "markdown",
   "metadata": {
    "papermill": {
     "duration": 0.01509,
     "end_time": "2021-01-17T20:27:19.272336",
     "exception": false,
     "start_time": "2021-01-17T20:27:19.257246",
     "status": "completed"
    },
    "tags": []
   },
   "source": []
  },
  {
   "cell_type": "markdown",
   "metadata": {
    "papermill": {
     "duration": 0.009967,
     "end_time": "2021-01-17T20:27:19.293483",
     "exception": false,
     "start_time": "2021-01-17T20:27:19.283516",
     "status": "completed"
    },
    "tags": []
   },
   "source": [
    "# Exploratory Data Analysis for Black Friday Sales Data\n",
    "### We Will look at:\n",
    "* Exploring the Dataset\n",
    "* Deriving sales insight to boost sales\n",
    "* Graphically representing the findings\n",
    "* Answering questions such as which product brings in more sales, what age group needs to be targeted for sales promotions, Stores in which areas make more sales during black friday"
   ]
  },
  {
   "cell_type": "code",
   "execution_count": 1,
   "metadata": {
    "execution": {
     "iopub.execute_input": "2021-01-17T20:27:19.317296Z",
     "iopub.status.busy": "2021-01-17T20:27:19.316683Z",
     "iopub.status.idle": "2021-01-17T20:27:20.894216Z",
     "shell.execute_reply": "2021-01-17T20:27:20.894707Z"
    },
    "papermill": {
     "duration": 1.591234,
     "end_time": "2021-01-17T20:27:20.894896",
     "exception": false,
     "start_time": "2021-01-17T20:27:19.303662",
     "status": "completed"
    },
    "tags": []
   },
  
   "source": [
    "import numpy as np \n",
    "import pandas as pd \n",
    "import matplotlib.pyplot as plt # visualizing data\n",
    "import seaborn as sns \n",
    "from sklearn.impute import SimpleImputer\n",
    "import warnings\n",
    "warnings.filterwarnings('ignore')\n",
    "from collections import Counter\n",
    "%matplotlib inline\n",
    "import chart_studio.plotly as py\n",
    "from plotly.offline import init_notebook_mode, iplot\n",
    "import plotly.graph_objs as go\n",
    "import plotly.figure_factory as ff\n",
    "import seaborn as sns"
   ]
  },
  {
   "cell_type": "code",
   "execution_count": 2,
   "metadata": {
    "execution": {
     "iopub.execute_input": "2021-01-17T20:27:20.919847Z",
     "iopub.status.busy": "2021-01-17T20:27:20.919261Z",
     "iopub.status.idle": "2021-01-17T20:27:21.790963Z",
     "shell.execute_reply": "2021-01-17T20:27:21.789927Z"
    },
    "papermill": {
     "duration": 0.884852,
     "end_time": "2021-01-17T20:27:21.791091",
     "exception": false,
     "start_time": "2021-01-17T20:27:20.906239",
     "status": "completed"
    },
    "tags": []
   },
   "outputs": [
    {
     "data": {
      "text/html": [
       "<div>\n",
       "<style scoped>\n",
       "    .dataframe tbody tr th:only-of-type {\n",
       "        vertical-align: middle;\n",
       "    }\n",
       "\n",
       "    .dataframe tbody tr th {\n",
       "        vertical-align: top;\n",
       "    }\n",
       "\n",
       "    .dataframe thead th {\n",
       "        text-align: right;\n",
       "    }\n",
       "</style>\n",
       "<table border=\"1\" class=\"dataframe\">\n",
       "  <thead>\n",
       "    <tr style=\"text-align: right;\">\n",
       "      <th></th>\n",
       "      <th>User_ID</th>\n",
       "      <th>Product_ID</th>\n",
       "      <th>Gender</th>\n",
       "      <th>Age</th>\n",
       "      <th>Occupation</th>\n",
       "      <th>City_Category</th>\n",
       "      <th>Stay_In_Current_City_Years</th>\n",
       "      <th>Marital_Status</th>\n",
       "      <th>Product_Category_1</th>\n",
       "      <th>Product_Category_2</th>\n",
       "      <th>Product_Category_3</th>\n",
       "      <th>Purchase</th>\n",
       "    </tr>\n",
       "  </thead>\n",
       "  <tbody>\n",
       "    <tr>\n",
       "      <th>0</th>\n",
       "      <td>1000001</td>\n",
       "      <td>P00069042</td>\n",
       "      <td>F</td>\n",
       "      <td>0-17</td>\n",
       "      <td>10</td>\n",
       "      <td>A</td>\n",
       "      <td>2</td>\n",
       "      <td>0</td>\n",
       "      <td>3</td>\n",
       "      <td>NaN</td>\n",
       "      <td>NaN</td>\n",
       "      <td>8370</td>\n",
       "    </tr>\n",
       "    <tr>\n",
       "      <th>1</th>\n",
       "      <td>1000001</td>\n",
       "      <td>P00248942</td>\n",
       "      <td>F</td>\n",
       "      <td>0-17</td>\n",
       "      <td>10</td>\n",
       "      <td>A</td>\n",
       "      <td>2</td>\n",
       "      <td>0</td>\n",
       "      <td>1</td>\n",
       "      <td>6.0</td>\n",
       "      <td>14.0</td>\n",
       "      <td>15200</td>\n",
       "    </tr>\n",
       "    <tr>\n",
       "      <th>2</th>\n",
       "      <td>1000001</td>\n",
       "      <td>P00087842</td>\n",
       "      <td>F</td>\n",
       "      <td>0-17</td>\n",
       "      <td>10</td>\n",
       "      <td>A</td>\n",
       "      <td>2</td>\n",
       "      <td>0</td>\n",
       "      <td>12</td>\n",
       "      <td>NaN</td>\n",
       "      <td>NaN</td>\n",
       "      <td>1422</td>\n",
       "    </tr>\n",
       "    <tr>\n",
       "      <th>3</th>\n",
       "      <td>1000001</td>\n",
       "      <td>P00085442</td>\n",
       "      <td>F</td>\n",
       "      <td>0-17</td>\n",
       "      <td>10</td>\n",
       "      <td>A</td>\n",
       "      <td>2</td>\n",
       "      <td>0</td>\n",
       "      <td>12</td>\n",
       "      <td>14.0</td>\n",
       "      <td>NaN</td>\n",
       "      <td>1057</td>\n",
       "    </tr>\n",
       "    <tr>\n",
       "      <th>4</th>\n",
       "      <td>1000002</td>\n",
       "      <td>P00285442</td>\n",
       "      <td>M</td>\n",
       "      <td>55+</td>\n",
       "      <td>16</td>\n",
       "      <td>C</td>\n",
       "      <td>4+</td>\n",
       "      <td>0</td>\n",
       "      <td>8</td>\n",
       "      <td>NaN</td>\n",
       "      <td>NaN</td>\n",
       "      <td>7969</td>\n",
       "    </tr>\n",
       "    <tr>\n",
       "      <th>...</th>\n",
       "      <td>...</td>\n",
       "      <td>...</td>\n",
       "      <td>...</td>\n",
       "      <td>...</td>\n",
       "      <td>...</td>\n",
       "      <td>...</td>\n",
       "      <td>...</td>\n",
       "      <td>...</td>\n",
       "      <td>...</td>\n",
       "      <td>...</td>\n",
       "      <td>...</td>\n",
       "      <td>...</td>\n",
       "    </tr>\n",
       "    <tr>\n",
       "      <th>550063</th>\n",
       "      <td>1006033</td>\n",
       "      <td>P00372445</td>\n",
       "      <td>M</td>\n",
       "      <td>51-55</td>\n",
       "      <td>13</td>\n",
       "      <td>B</td>\n",
       "      <td>1</td>\n",
       "      <td>1</td>\n",
       "      <td>20</td>\n",
       "      <td>NaN</td>\n",
       "      <td>NaN</td>\n",
       "      <td>368</td>\n",
       "    </tr>\n",
       "    <tr>\n",
       "      <th>550064</th>\n",
       "      <td>1006035</td>\n",
       "      <td>P00375436</td>\n",
       "      <td>F</td>\n",
       "      <td>26-35</td>\n",
       "      <td>1</td>\n",
       "      <td>C</td>\n",
       "      <td>3</td>\n",
       "      <td>0</td>\n",
       "      <td>20</td>\n",
       "      <td>NaN</td>\n",
       "      <td>NaN</td>\n",
       "      <td>371</td>\n",
       "    </tr>\n",
       "    <tr>\n",
       "      <th>550065</th>\n",
       "      <td>1006036</td>\n",
       "      <td>P00375436</td>\n",
       "      <td>F</td>\n",
       "      <td>26-35</td>\n",
       "      <td>15</td>\n",
       "      <td>B</td>\n",
       "      <td>4+</td>\n",
       "      <td>1</td>\n",
       "      <td>20</td>\n",
       "      <td>NaN</td>\n",
       "      <td>NaN</td>\n",
       "      <td>137</td>\n",
       "    </tr>\n",
       "    <tr>\n",
       "      <th>550066</th>\n",
       "      <td>1006038</td>\n",
       "      <td>P00375436</td>\n",
       "      <td>F</td>\n",
       "      <td>55+</td>\n",
       "      <td>1</td>\n",
       "      <td>C</td>\n",
       "      <td>2</td>\n",
       "      <td>0</td>\n",
       "      <td>20</td>\n",
       "      <td>NaN</td>\n",
       "      <td>NaN</td>\n",
       "      <td>365</td>\n",
       "    </tr>\n",
       "    <tr>\n",
       "      <th>550067</th>\n",
       "      <td>1006039</td>\n",
       "      <td>P00371644</td>\n",
       "      <td>F</td>\n",
       "      <td>46-50</td>\n",
       "      <td>0</td>\n",
       "      <td>B</td>\n",
       "      <td>4+</td>\n",
       "      <td>1</td>\n",
       "      <td>20</td>\n",
       "      <td>NaN</td>\n",
       "      <td>NaN</td>\n",
       "      <td>490</td>\n",
       "    </tr>\n",
       "  </tbody>\n",
       "</table>\n",
       "<p>550068 rows × 12 columns</p>\n",
       "</div>"
      ],
      "text/plain": [
       "        User_ID Product_ID Gender    Age  Occupation City_Category  \\\n",
       "0       1000001  P00069042      F   0-17          10             A   \n",
       "1       1000001  P00248942      F   0-17          10             A   \n",
       "2       1000001  P00087842      F   0-17          10             A   \n",
       "3       1000001  P00085442      F   0-17          10             A   \n",
       "4       1000002  P00285442      M    55+          16             C   \n",
       "...         ...        ...    ...    ...         ...           ...   \n",
       "550063  1006033  P00372445      M  51-55          13             B   \n",
       "550064  1006035  P00375436      F  26-35           1             C   \n",
       "550065  1006036  P00375436      F  26-35          15             B   \n",
       "550066  1006038  P00375436      F    55+           1             C   \n",
       "550067  1006039  P00371644      F  46-50           0             B   \n",
       "\n",
       "       Stay_In_Current_City_Years  Marital_Status  Product_Category_1  \\\n",
       "0                               2               0                   3   \n",
       "1                               2               0                   1   \n",
       "2                               2               0                  12   \n",
       "3                               2               0                  12   \n",
       "4                              4+               0                   8   \n",
       "...                           ...             ...                 ...   \n",
       "550063                          1               1                  20   \n",
       "550064                          3               0                  20   \n",
       "550065                         4+               1                  20   \n",
       "550066                          2               0                  20   \n",
       "550067                         4+               1                  20   \n",
       "\n",
       "        Product_Category_2  Product_Category_3  Purchase  \n",
       "0                      NaN                 NaN      8370  \n",
       "1                      6.0                14.0     15200  \n",
       "2                      NaN                 NaN      1422  \n",
       "3                     14.0                 NaN      1057  \n",
       "4                      NaN                 NaN      7969  \n",
       "...                    ...                 ...       ...  \n",
       "550063                 NaN                 NaN       368  \n",
       "550064                 NaN                 NaN       371  \n",
       "550065                 NaN                 NaN       137  \n",
       "550066                 NaN                 NaN       365  \n",
       "550067                 NaN                 NaN       490  \n",
       "\n",
       "[550068 rows x 12 columns]"
      ]
     },
     "execution_count": 2,
     "metadata": {},
     "output_type": "execute_result"
    }
   ],
   "source": [
    "df = pd.read_csv('/kaggle/input/black-friday/train.csv')\n",
    "df"
   ]
  },
  {
   "cell_type": "code",
   "execution_count": 3,
   "metadata": {
    "execution": {
     "iopub.execute_input": "2021-01-17T20:27:21.854516Z",
     "iopub.status.busy": "2021-01-17T20:27:21.852445Z",
     "iopub.status.idle": "2021-01-17T20:27:21.855164Z",
     "shell.execute_reply": "2021-01-17T20:27:21.855601Z"
    },
    "papermill": {
     "duration": 0.053074,
     "end_time": "2021-01-17T20:27:21.855735",
     "exception": false,
     "start_time": "2021-01-17T20:27:21.802661",
     "status": "completed"
    },
    "tags": []
   },
   "outputs": [],
   "source": [
    "#drop User_ID and Product_ID\n",
    "df = df.drop(['User_ID','Product_ID'], axis=1)"
   ]
  },
  {
   "cell_type": "code",
   "execution_count": 4,
   "metadata": {
    "execution": {
     "iopub.execute_input": "2021-01-17T20:27:21.893807Z",
     "iopub.status.busy": "2021-01-17T20:27:21.893113Z",
     "iopub.status.idle": "2021-01-17T20:27:21.896751Z",
     "shell.execute_reply": "2021-01-17T20:27:21.897205Z"
    },
    "papermill": {
     "duration": 0.029924,
     "end_time": "2021-01-17T20:27:21.897342",
     "exception": false,
     "start_time": "2021-01-17T20:27:21.867418",
     "status": "completed"
    },
    "tags": []
   },
   "outputs": [
    {
     "data": {
      "text/html": [
       "<div>\n",
       "<style scoped>\n",
       "    .dataframe tbody tr th:only-of-type {\n",
       "        vertical-align: middle;\n",
       "    }\n",
       "\n",
       "    .dataframe tbody tr th {\n",
       "        vertical-align: top;\n",
       "    }\n",
       "\n",
       "    .dataframe thead th {\n",
       "        text-align: right;\n",
       "    }\n",
       "</style>\n",
       "<table border=\"1\" class=\"dataframe\">\n",
       "  <thead>\n",
       "    <tr style=\"text-align: right;\">\n",
       "      <th></th>\n",
       "      <th>Gender</th>\n",
       "      <th>Age</th>\n",
       "      <th>Occupation</th>\n",
       "      <th>City_Category</th>\n",
       "      <th>Stay_In_Current_City_Years</th>\n",
       "      <th>Marital_Status</th>\n",
       "      <th>Product_Category_1</th>\n",
       "      <th>Product_Category_2</th>\n",
       "      <th>Product_Category_3</th>\n",
       "      <th>Purchase</th>\n",
       "    </tr>\n",
       "  </thead>\n",
       "  <tbody>\n",
       "    <tr>\n",
       "      <th>0</th>\n",
       "      <td>F</td>\n",
       "      <td>0-17</td>\n",
       "      <td>10</td>\n",
       "      <td>A</td>\n",
       "      <td>2</td>\n",
       "      <td>0</td>\n",
       "      <td>3</td>\n",
       "      <td>NaN</td>\n",
       "      <td>NaN</td>\n",
       "      <td>8370</td>\n",
       "    </tr>\n",
       "    <tr>\n",
       "      <th>1</th>\n",
       "      <td>F</td>\n",
       "      <td>0-17</td>\n",
       "      <td>10</td>\n",
       "      <td>A</td>\n",
       "      <td>2</td>\n",
       "      <td>0</td>\n",
       "      <td>1</td>\n",
       "      <td>6.0</td>\n",
       "      <td>14.0</td>\n",
       "      <td>15200</td>\n",
       "    </tr>\n",
       "    <tr>\n",
       "      <th>2</th>\n",
       "      <td>F</td>\n",
       "      <td>0-17</td>\n",
       "      <td>10</td>\n",
       "      <td>A</td>\n",
       "      <td>2</td>\n",
       "      <td>0</td>\n",
       "      <td>12</td>\n",
       "      <td>NaN</td>\n",
       "      <td>NaN</td>\n",
       "      <td>1422</td>\n",
       "    </tr>\n",
       "    <tr>\n",
       "      <th>3</th>\n",
       "      <td>F</td>\n",
       "      <td>0-17</td>\n",
       "      <td>10</td>\n",
       "      <td>A</td>\n",
       "      <td>2</td>\n",
       "      <td>0</td>\n",
       "      <td>12</td>\n",
       "      <td>14.0</td>\n",
       "      <td>NaN</td>\n",
       "      <td>1057</td>\n",
       "    </tr>\n",
       "    <tr>\n",
       "      <th>4</th>\n",
       "      <td>M</td>\n",
       "      <td>55+</td>\n",
       "      <td>16</td>\n",
       "      <td>C</td>\n",
       "      <td>4+</td>\n",
       "      <td>0</td>\n",
       "      <td>8</td>\n",
       "      <td>NaN</td>\n",
       "      <td>NaN</td>\n",
       "      <td>7969</td>\n",
       "    </tr>\n",
       "  </tbody>\n",
       "</table>\n",
       "</div>"
      ],
      "text/plain": [
       "  Gender   Age  Occupation City_Category Stay_In_Current_City_Years  \\\n",
       "0      F  0-17          10             A                          2   \n",
       "1      F  0-17          10             A                          2   \n",
       "2      F  0-17          10             A                          2   \n",
       "3      F  0-17          10             A                          2   \n",
       "4      M   55+          16             C                         4+   \n",
       "\n",
       "   Marital_Status  Product_Category_1  Product_Category_2  Product_Category_3  \\\n",
       "0               0                   3                 NaN                 NaN   \n",
       "1               0                   1                 6.0                14.0   \n",
       "2               0                  12                 NaN                 NaN   \n",
       "3               0                  12                14.0                 NaN   \n",
       "4               0                   8                 NaN                 NaN   \n",
       "\n",
       "   Purchase  \n",
       "0      8370  \n",
       "1     15200  \n",
       "2      1422  \n",
       "3      1057  \n",
       "4      7969  "
      ]
     },
     "execution_count": 4,
     "metadata": {},
     "output_type": "execute_result"
    }
   ],
   "source": [
    "df.head(5)"
   ]
  },
  {
   "cell_type": "code",
   "execution_count": 5,
   "metadata": {
    "execution": {
     "iopub.execute_input": "2021-01-17T20:27:22.019527Z",
     "iopub.status.busy": "2021-01-17T20:27:22.018640Z",
     "iopub.status.idle": "2021-01-17T20:27:22.282783Z",
     "shell.execute_reply": "2021-01-17T20:27:22.282321Z"
    },
    "papermill": {
     "duration": 0.373374,
     "end_time": "2021-01-17T20:27:22.282897",
     "exception": false,
     "start_time": "2021-01-17T20:27:21.909523",
     "status": "completed"
    },
    "tags": []
   },
   "outputs": [
    {
     "data": {
      "text/html": [
       "<div>\n",
       "<style scoped>\n",
       "    .dataframe tbody tr th:only-of-type {\n",
       "        vertical-align: middle;\n",
       "    }\n",
       "\n",
       "    .dataframe tbody tr th {\n",
       "        vertical-align: top;\n",
       "    }\n",
       "\n",
       "    .dataframe thead th {\n",
       "        text-align: right;\n",
       "    }\n",
       "</style>\n",
       "<table border=\"1\" class=\"dataframe\">\n",
       "  <thead>\n",
       "    <tr style=\"text-align: right;\">\n",
       "      <th></th>\n",
       "      <th>Total Missing Data</th>\n",
       "      <th>Missing Data %</th>\n",
       "    </tr>\n",
       "  </thead>\n",
       "  <tbody>\n",
       "    <tr>\n",
       "      <th>Product_Category_3</th>\n",
       "      <td>383247</td>\n",
       "      <td>0.696727</td>\n",
       "    </tr>\n",
       "    <tr>\n",
       "      <th>Product_Category_2</th>\n",
       "      <td>173638</td>\n",
       "      <td>0.315666</td>\n",
       "    </tr>\n",
       "    <tr>\n",
       "      <th>Purchase</th>\n",
       "      <td>0</td>\n",
       "      <td>0.000000</td>\n",
       "    </tr>\n",
       "    <tr>\n",
       "      <th>Product_Category_1</th>\n",
       "      <td>0</td>\n",
       "      <td>0.000000</td>\n",
       "    </tr>\n",
       "    <tr>\n",
       "      <th>Marital_Status</th>\n",
       "      <td>0</td>\n",
       "      <td>0.000000</td>\n",
       "    </tr>\n",
       "    <tr>\n",
       "      <th>Stay_In_Current_City_Years</th>\n",
       "      <td>0</td>\n",
       "      <td>0.000000</td>\n",
       "    </tr>\n",
       "    <tr>\n",
       "      <th>City_Category</th>\n",
       "      <td>0</td>\n",
       "      <td>0.000000</td>\n",
       "    </tr>\n",
       "    <tr>\n",
       "      <th>Occupation</th>\n",
       "      <td>0</td>\n",
       "      <td>0.000000</td>\n",
       "    </tr>\n",
       "    <tr>\n",
       "      <th>Age</th>\n",
       "      <td>0</td>\n",
       "      <td>0.000000</td>\n",
       "    </tr>\n",
       "    <tr>\n",
       "      <th>Gender</th>\n",
       "      <td>0</td>\n",
       "      <td>0.000000</td>\n",
       "    </tr>\n",
       "  </tbody>\n",
       "</table>\n",
       "</div>"
      ],
      "text/plain": [
       "                            Total Missing Data  Missing Data %\n",
       "Product_Category_3                      383247        0.696727\n",
       "Product_Category_2                      173638        0.315666\n",
       "Purchase                                     0        0.000000\n",
       "Product_Category_1                           0        0.000000\n",
       "Marital_Status                               0        0.000000\n",
       "Stay_In_Current_City_Years                   0        0.000000\n",
       "City_Category                                0        0.000000\n",
       "Occupation                                   0        0.000000\n",
       "Age                                          0        0.000000\n",
       "Gender                                       0        0.000000"
      ]
     },
     "execution_count": 5,
     "metadata": {},
     "output_type": "execute_result"
    }
   ],
   "source": [
    "total = df.isnull().sum().sort_values(ascending=False)\n",
    "#missing data in %\n",
    "missing_data_per= (df.isnull().sum()/df.isnull().count()).sort_values(ascending=False)\n",
    "missing_data = pd.concat([total, missing_data_per], axis=1, keys=['Total Missing Data', 'Missing Data %'])\n",
    "missing_data.head(10)"
   ]
  },
  {
   "cell_type": "code",
   "execution_count": 6,
   "metadata": {
    "execution": {
     "iopub.execute_input": "2021-01-17T20:27:22.311566Z",
     "iopub.status.busy": "2021-01-17T20:27:22.310945Z",
     "iopub.status.idle": "2021-01-17T20:27:22.382462Z",
     "shell.execute_reply": "2021-01-17T20:27:22.381836Z"
    },
    "papermill": {
     "duration": 0.086571,
     "end_time": "2021-01-17T20:27:22.382598",
     "exception": false,
     "start_time": "2021-01-17T20:27:22.296027",
     "status": "completed"
    },
    "tags": []
   },
   "outputs": [],
   "source": [
    "# Product_Category_3 has more than 65% missing data - best to drop this column and impute another product category column\n",
    "df = df.drop('Product_Category_3', axis=1)\n",
    "impute = SimpleImputer(missing_values=np.nan, strategy='mean')\n",
    "impute = impute.fit(pd.DataFrame(df['Product_Category_2']))\n",
    "df['Product_Category_2'] = impute.transform(pd.DataFrame(df['Product_Category_2']))\n",
    "df['Product_Category_2'] = np.round(df['Product_Category_2'])"
   ]
  },
  {
   "cell_type": "code",
   "execution_count": 7,
   "metadata": {
    "execution": {
     "iopub.execute_input": "2021-01-17T20:27:22.502670Z",
     "iopub.status.busy": "2021-01-17T20:27:22.502004Z",
     "iopub.status.idle": "2021-01-17T20:27:22.518455Z",
     "shell.execute_reply": "2021-01-17T20:27:22.518963Z"
    },
    "papermill": {
     "duration": 0.124006,
     "end_time": "2021-01-17T20:27:22.519120",
     "exception": false,
     "start_time": "2021-01-17T20:27:22.395114",
     "status": "completed"
    },
    "tags": []
   },
   "outputs": [
    {
     "name": "stdout",
     "output_type": "stream",
     "text": [
      "Missing Values: 0\n"
     ]
    }
   ],
   "source": [
    "#checking missing values\n",
    "print(\"Missing Values:\",df.isnull().sum().max())"
   ]
  },
  {
   "cell_type": "code",
   "execution_count": 8,
   "metadata": {
    "execution": {
     "iopub.execute_input": "2021-01-17T20:27:22.551920Z",
     "iopub.status.busy": "2021-01-17T20:27:22.551165Z",
     "iopub.status.idle": "2021-01-17T20:27:22.774226Z",
     "shell.execute_reply": "2021-01-17T20:27:22.774638Z"
    },
    "papermill": {
     "duration": 0.242392,
     "end_time": "2021-01-17T20:27:22.774779",
     "exception": false,
     "start_time": "2021-01-17T20:27:22.532387",
     "status": "completed"
    },
    "tags": []
   },
   "outputs": [
    {
     "data": {
      "image/png": "[encoded data removed]",
      "text/plain": [
       "<Figure size 864x504 with 1 Axes>"
      ]
     },
     "metadata": {},
     "output_type": "display_data"
    }
   ],
   "source": [
    "# Purchases made by male vs female during sales\n",
    "explode = (0.1,0)  \n",
    "fig1, ax1 = plt.subplots(figsize=(12,7))\n",
    "ax1.pie(df['Gender'].value_counts(), explode=explode,labels=['Male','Female'], autopct='%1.1f%%',\n",
    "        shadow=True, startangle=90)\n",
    "ax1.axis('equal')  \n",
    "plt.tight_layout()\n",
    "plt.legend()\n",
    "plt.show()"
   ]
  },
  {
   "cell_type": "markdown",
   "metadata": {
    "papermill": {
     "duration": 0.013337,
     "end_time": "2021-01-17T20:27:22.801964",
     "exception": false,
     "start_time": "2021-01-17T20:27:22.788627",
     "status": "completed"
    },
    "tags": []
   },
   "source": [
    "* Looks like very less number of females purchased at the black friday sale\n",
    "* It could also mean less number of females paid for the products\n",
    "* Lets explore some more"
   ]
  },
  {
   "cell_type": "code",
   "execution_count": 9,
   "metadata": {
    "execution": {
     "iopub.execute_input": "2021-01-17T20:27:22.842462Z",
     "iopub.status.busy": "2021-01-17T20:27:22.840199Z",
     "iopub.status.idle": "2021-01-17T20:27:23.350724Z",
     "shell.execute_reply": "2021-01-17T20:27:23.350240Z"
    },
    "papermill": {
     "duration": 0.534174,
     "end_time": "2021-01-17T20:27:23.350834",
     "exception": false,
     "start_time": "2021-01-17T20:27:22.816660",
     "status": "completed"
    },
    "tags": []
   },
   "outputs": [
    {
     "data": {
      "text/plain": [
       "<matplotlib.axes._subplots.AxesSubplot at 0x7f17b5a73750>"
      ]
     },
     "execution_count": 9,
     "metadata": {},
     "output_type": "execute_result"
    },
    {
     "data": {
      "image/png": "[encoded data removed]",
      "text/plain": [
       "<Figure size 1080x720 with 1 Axes>"
      ]
     },
     "metadata": {
      "needs_background": "light"
     },
     "output_type": "display_data"
    }
   ],
   "source": [
    "#age wise purchases done by gender during sale\n",
    "fig1, ax1 = plt.subplots(figsize=(15,10))\n",
    "sns.countplot(df['Age'],hue=df['Gender'])"
   ]
  },
  {
   "cell_type": "markdown",
   "metadata": {
    "papermill": {
     "duration": 0.01468,
     "end_time": "2021-01-17T20:27:23.380960",
     "exception": false,
     "start_time": "2021-01-17T20:27:23.366280",
     "status": "completed"
    },
    "tags": []
   },
   "source": [
    "* The plot shows that the age group between 26 and 35 years made more purchases than the others\n",
    "* so we can boost sales targetting age group of 26-35 for specific products"
   ]
  },
  {
   "cell_type": "code",
   "execution_count": 10,
   "metadata": {
    "execution": {
     "iopub.execute_input": "2021-01-17T20:27:23.507937Z",
     "iopub.status.busy": "2021-01-17T20:27:23.423610Z",
     "iopub.status.idle": "2021-01-17T20:27:23.602668Z",
     "shell.execute_reply": "2021-01-17T20:27:23.602104Z"
    },
    "papermill": {
     "duration": 0.206144,
     "end_time": "2021-01-17T20:27:23.602774",
     "exception": false,
     "start_time": "2021-01-17T20:27:23.396630",
     "status": "completed"
    },
    "tags": []
   },
   "outputs": [
    {
     "data": {
      "image/png": "[encoded data removed]",
      "text/plain": [
       "<Figure size 864x504 with 1 Axes>"
      ]
     },
     "metadata": {},
     "output_type": "display_data"
    }
   ],
   "source": [
    "#data shows marital status of people who made purchases \n",
    "#label=['Underage 0-17','Retired +55','Middleage 26-35','46-50 y/o','Oldman 51-55','Middleage+ 36-45','Youth']\n",
    "explode = (0.1, 0)\n",
    "fig1, ax1 = plt.subplots(figsize=(12,7))\n",
    "ax1.pie(df['Marital_Status'].value_counts(),explode=explode, labels=['Yes','No'], autopct='%1.1f%%',\n",
    "        shadow=True, startangle=90)\n",
    "# Equal aspect ratio ensures that pie is drawn as a circle\n",
    "ax1.axis('equal')  \n",
    "plt.tight_layout()\n",
    "plt.legend()\n",
    "plt.show()"
   ]
  },
  {
   "cell_type": "markdown",
   "metadata": {
    "papermill": {
     "duration": 0.01591,
     "end_time": "2021-01-17T20:27:23.634995",
     "exception": false,
     "start_time": "2021-01-17T20:27:23.619085",
     "status": "completed"
    },
    "tags": []
   },
   "source": [
    "* This Data shows that the more than 50% of the customers are married, so we can come up with a strategy to target families to ensure more sales\n",
    "* similarly target the non-married customers to boost sales in that category"
   ]
  },
  {
   "cell_type": "code",
   "execution_count": 11,
   "metadata": {
    "execution": {
     "iopub.execute_input": "2021-01-17T20:27:23.671262Z",
     "iopub.status.busy": "2021-01-17T20:27:23.670653Z",
     "iopub.status.idle": "2021-01-17T20:27:23.847954Z",
     "shell.execute_reply": "2021-01-17T20:27:23.848444Z"
    },
    "papermill": {
     "duration": 0.196701,
     "end_time": "2021-01-17T20:27:23.848586",
     "exception": false,
     "start_time": "2021-01-17T20:27:23.651885",
     "status": "completed"
    },
    "tags": []
   },
   "outputs": [
    {
     "data": {
      "image/png": "[encoded data removed]",
      "text/plain": [
       "<Figure size 864x504 with 1 Axes>"
      ]
     },
     "metadata": {},
     "output_type": "display_data"
    }
   ],
   "source": [
    "#purchases made according to people of particular region\n",
    "explode = (0.1, 0, 0)\n",
    "fig1, ax1 = plt.subplots(figsize=(12,7))\n",
    "ax1.pie(df.groupby('City_Category')['Purchase'].sum(),explode=explode, labels=df['City_Category'].unique(), autopct='%1.1f%%',\n",
    "        shadow=True, startangle=90)\n",
    "# Equal aspect ratio ensures that pie is drawn as a circle\n",
    "ax1.axis('equal')  \n",
    "plt.tight_layout()\n",
    "plt.legend()\n",
    "plt.show()"
   ]
  },
  {
   "cell_type": "markdown",
   "metadata": {
    "papermill": {
     "duration": 0.017119,
     "end_time": "2021-01-17T20:27:23.883397",
     "exception": false,
     "start_time": "2021-01-17T20:27:23.866278",
     "status": "completed"
    },
    "tags": []
   },
   "source": [
    "* the above plot shows that people from Area C have made more purchases than Area A and Area B \n",
    "* Stores in Area A and B need to introduce more sales promotions compared to Area C but the results could also be affected by population/Age Group in the Area"
   ]
  },
  {
   "cell_type": "code",
   "execution_count": 12,
   "metadata": {
    "execution": {
     "iopub.execute_input": "2021-01-17T20:27:23.947680Z",
     "iopub.status.busy": "2021-01-17T20:27:23.946659Z",
     "iopub.status.idle": "2021-01-17T20:27:24.456239Z",
     "shell.execute_reply": "2021-01-17T20:27:24.455435Z"
    },
    "papermill": {
     "duration": 0.555543,
     "end_time": "2021-01-17T20:27:24.456366",
     "exception": false,
     "start_time": "2021-01-17T20:27:23.900823",
     "status": "completed"
    },
    "tags": []
   },
   "outputs": [
    {
     "name": "stdout",
     "output_type": "stream",
     "text": [
      "Purchaser Counts for City: A  =  147720\n",
      "Purchaser Counts for City: B  =  231173\n",
      "Purchaser Counts for City: C  =  171175\n"
     ]
    }
   ],
   "source": [
    "for CityCategory in df['City_Category'].sort_values().unique():\n",
    "    PurchaserCounts = df.loc[df['City_Category'] == CityCategory]\n",
    "    print(\"Purchaser Counts for City:\",CityCategory,\" = \",PurchaserCounts.shape[0])"
   ]
  },
  {
   "cell_type": "markdown",
   "metadata": {
    "papermill": {
     "duration": 0.018922,
     "end_time": "2021-01-17T20:27:24.494048",
     "exception": false,
     "start_time": "2021-01-17T20:27:24.475126",
     "status": "completed"
    },
    "tags": []
   },
   "source": [
    "* Lets look at which product makes more profit"
   ]
  },
  {
   "cell_type": "code",
   "execution_count": 13,
   "metadata": {
    "execution": {
     "iopub.execute_input": "2021-01-17T20:27:24.535391Z",
     "iopub.status.busy": "2021-01-17T20:27:24.534795Z",
     "iopub.status.idle": "2021-01-17T20:27:24.542050Z",
     "shell.execute_reply": "2021-01-17T20:27:24.542537Z"
    },
    "papermill": {
     "duration": 0.030705,
     "end_time": "2021-01-17T20:27:24.542689",
     "exception": false,
     "start_time": "2021-01-17T20:27:24.511984",
     "status": "completed"
    },
    "tags": []
   },
   "outputs": [
    {
     "name": "stdout",
     "output_type": "stream",
     "text": [
      "Product Category 1 Profit =  2972716\n",
      "Product Category 2 Profit =  5441328.0\n"
     ]
    }
   ],
   "source": [
    "Product_Category_1 = df['Product_Category_1'].sum()\n",
    "Product_Category_2 = df['Product_Category_2'].sum()\n",
    "\n",
    "print(\"Product Category 1 Profit = \",Product_Category_1)\n",
    "print(\"Product Category 2 Profit = \",Product_Category_2)\n"
   ]
  },
  {
   "cell_type": "code",
   "execution_count": 14,
   "metadata": {
    "execution": {
     "iopub.execute_input": "2021-01-17T20:27:24.591693Z",
     "iopub.status.busy": "2021-01-17T20:27:24.591048Z",
     "iopub.status.idle": "2021-01-17T20:27:24.687258Z",
     "shell.execute_reply": "2021-01-17T20:27:24.686727Z"
    },
    "papermill": {
     "duration": 0.126052,
     "end_time": "2021-01-17T20:27:24.687379",
     "exception": false,
     "start_time": "2021-01-17T20:27:24.561327",
     "status": "completed"
    },
    "tags": []
   },
   "outputs": [
    {
     "data": {
      "image/png": "[encoded data removed]",
      "text/plain": [
       "<Figure size 432x288 with 1 Axes>"
      ]
     },
     "metadata": {
      "needs_background": "light"
     },
     "output_type": "display_data"
    }
   ],
   "source": [
    "labels = ['Product_Category_1','Product_Category_2']\n",
    "values = [Product_Category_1,Product_Category_2]\n",
    "\n",
    "plt.bar(labels,values, width=.9, facecolor='b', edgecolor='w', alpha=.5)\n",
    "plt.text(-0.7,6000000,'Purchases made for Product Category 1 vs Product Category 2')\n",
    "         \n",
    "plt.show()"
   ]
  },
  {
   "cell_type": "code",
   "execution_count": null,
   "metadata": {
    "papermill": {
     "duration": 0.018298,
     "end_time": "2021-01-17T20:27:24.724355",
     "exception": false,
     "start_time": "2021-01-17T20:27:24.706057",
     "status": "completed"
    },
    "tags": []
   },
   "outputs": [],
   "source": []
  },
  {
   "cell_type": "code",
   "execution_count": null,
   "metadata": {
    "papermill": {
     "duration": 0.018541,
     "end_time": "2021-01-17T20:27:24.761812",
     "exception": false,
     "start_time": "2021-01-17T20:27:24.743271",
     "status": "completed"
    },
    "tags": []
   },
   "outputs": [],
   "source": []
  }
 ],
 "metadata": {
  "kernelspec": {
   "display_name": "Python 3",
   "language": "python",
   "name": "python3"
  },
  "language_info": {
   "codemirror_mode": {
    "name": "ipython",
    "version": 3
   },
   "file_extension": ".py",
   "mimetype": "text/x-python",
   "name": "python",
   "nbconvert_exporter": "python",
   "pygments_lexer": "ipython3",
   "version": "3.7.6"
  },
  "papermill": {
   "duration": 10.69362,
   "end_time": "2021-01-17T20:27:24.888710",
   "environment_variables": {},
   "exception": null,
   "input_path": "__notebook__.ipynb",
   "output_path": "__notebook__.ipynb",
   "parameters": {},
   "start_time": "2021-01-17T20:27:14.195090",
   "version": "2.1.0"
  }
 },
 "nbformat": 4,
 "nbformat_minor": 4
}
